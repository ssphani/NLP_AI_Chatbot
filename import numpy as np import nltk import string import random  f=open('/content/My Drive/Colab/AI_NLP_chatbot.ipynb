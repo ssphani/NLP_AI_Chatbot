import numpy as np
import nltk
import string
import random

f=open('/content/My Drive/Colab/data.txt','r',errors='ignore')
raw_doc=f.read()

raw_doc=raw_doc.lower()
nltk.download('punkt')
nltk.download('wordnet')
nltk.download('owm-1.4')
sentence_tokens = nltk.sent_tokenize(raw_doc)
word_tokens = nltk.word_tokenize(raw_doc)

sentence_tokens[:10]

word_tokens[:10]

lemmer = nltk.stem.WordNetLemmatizer()
def LemTokens(tokens):
  return [lemmer.lemmatize(token) for token in tokens]
remove_punc_dict = dict((ord(punct),None)for punct in string.punctuation)
def LemNormalize(text):
  return LemTokens(nltk.word_tokenize(text.lower().translate(remove_punc_dict)))

greet_inputs = ('hello','hi','how are you?','hey',)
greet_responses = ('hi','hey!','good to see you again','hey there!')
def greet(sentence):
  for word in sentence.split():
    if word.lower() in greet_inputs:
      return random.choice(greet_responses)

from sklearn.feature_extraction.text import TfidfVectorizer
from sklearn.metrics.pairwise import cosine_similarity


def response(user_response):
    global robo1_response  # Declare robo1_response as a global variable
    robo1_response = ""    # Initialize robo1_response
    TfidfVec = TfidfVectorizer(tokenizer=LemNormalize, stop_words='english')
    tfidf = TfidfVec.fit_transform(sentence_tokens)
    vals = cosine_similarity(tfidf[-1], tfidf)
    idx = vals.argsort()[0][-2]
    flat = vals.flatten()
    flat.sort()
    req_tfidf = flat[-2]
    if (req_tfidf == 0):
        robo1_response = robo1_response + "I am sorry. I am unable to understand you!"
        return robo1_response
    else:
        robo1_response = robo1_response + sentence_tokens[idx]
        return robo1_response

robo1_response = ""

flag = True
print('Hello! I am the Retreival Learning Bot pluto. Start typing your questions after greeting to talk to me. For ending convo type bye!')
while(flag == True):
    user_response = input()
    user_response = user_response.lower()
    if(user_response != 'bye'):
        if(user_response == 'thank you' or user_response == 'thanks'):
            flag = False
            print('pluto: You are Welcome..')
        else:
            if(greet(user_response) != None):
                print('pluto '+ greet (user_response))
            else:
                sentence_tokens.append(user_response)
                word_tokens = word_tokens + nltk.word_tokenize(user_response)
                final_words = list(set(word_tokens))
                print('pluto: ', end = '')
                print(response(user_response))
                sentence_tokens.remove(user_response)
    else:
        flag = False
        print( 'pluto: Goodbye! ')
